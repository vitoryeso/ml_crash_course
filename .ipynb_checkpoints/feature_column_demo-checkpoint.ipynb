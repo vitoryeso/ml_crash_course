{
 "cells": [
  {
   "cell_type": "code",
   "execution_count": 36,
   "metadata": {},
   "outputs": [],
   "source": [
    "import tensorflow as tf\n",
    "import numpy as np\n",
    "import pandas as pd\n",
    "\n",
    "from tensorflow import feature_column\n",
    "from tensorflow.keras import layers\n",
    "from sklearn.model_selection import train_test_split\n"
   ]
  },
  {
   "cell_type": "code",
   "execution_count": 37,
   "metadata": {},
   "outputs": [],
   "source": [
    "csv_file = 'datasets/petfinder-mini/petfinder-mini.csv'"
   ]
  },
  {
   "cell_type": "code",
   "execution_count": 38,
   "metadata": {},
   "outputs": [
    {
     "data": {
      "text/html": [
       "<div>\n",
       "<style scoped>\n",
       "    .dataframe tbody tr th:only-of-type {\n",
       "        vertical-align: middle;\n",
       "    }\n",
       "\n",
       "    .dataframe tbody tr th {\n",
       "        vertical-align: top;\n",
       "    }\n",
       "\n",
       "    .dataframe thead th {\n",
       "        text-align: right;\n",
       "    }\n",
       "</style>\n",
       "<table border=\"1\" class=\"dataframe\">\n",
       "  <thead>\n",
       "    <tr style=\"text-align: right;\">\n",
       "      <th></th>\n",
       "      <th>Type</th>\n",
       "      <th>Age</th>\n",
       "      <th>Breed1</th>\n",
       "      <th>Gender</th>\n",
       "      <th>Color1</th>\n",
       "      <th>Color2</th>\n",
       "      <th>MaturitySize</th>\n",
       "      <th>FurLength</th>\n",
       "      <th>Vaccinated</th>\n",
       "      <th>Sterilized</th>\n",
       "      <th>Health</th>\n",
       "      <th>Fee</th>\n",
       "      <th>Description</th>\n",
       "      <th>PhotoAmt</th>\n",
       "      <th>AdoptionSpeed</th>\n",
       "    </tr>\n",
       "  </thead>\n",
       "  <tbody>\n",
       "    <tr>\n",
       "      <th>0</th>\n",
       "      <td>Cat</td>\n",
       "      <td>3</td>\n",
       "      <td>Tabby</td>\n",
       "      <td>Male</td>\n",
       "      <td>Black</td>\n",
       "      <td>White</td>\n",
       "      <td>Small</td>\n",
       "      <td>Short</td>\n",
       "      <td>No</td>\n",
       "      <td>No</td>\n",
       "      <td>Healthy</td>\n",
       "      <td>100</td>\n",
       "      <td>Nibble is a 3+ month old ball of cuteness. He ...</td>\n",
       "      <td>1</td>\n",
       "      <td>2</td>\n",
       "    </tr>\n",
       "    <tr>\n",
       "      <th>1</th>\n",
       "      <td>Cat</td>\n",
       "      <td>1</td>\n",
       "      <td>Domestic Medium Hair</td>\n",
       "      <td>Male</td>\n",
       "      <td>Black</td>\n",
       "      <td>Brown</td>\n",
       "      <td>Medium</td>\n",
       "      <td>Medium</td>\n",
       "      <td>Not Sure</td>\n",
       "      <td>Not Sure</td>\n",
       "      <td>Healthy</td>\n",
       "      <td>0</td>\n",
       "      <td>I just found it alone yesterday near my apartm...</td>\n",
       "      <td>2</td>\n",
       "      <td>0</td>\n",
       "    </tr>\n",
       "    <tr>\n",
       "      <th>2</th>\n",
       "      <td>Dog</td>\n",
       "      <td>1</td>\n",
       "      <td>Mixed Breed</td>\n",
       "      <td>Male</td>\n",
       "      <td>Brown</td>\n",
       "      <td>White</td>\n",
       "      <td>Medium</td>\n",
       "      <td>Medium</td>\n",
       "      <td>Yes</td>\n",
       "      <td>No</td>\n",
       "      <td>Healthy</td>\n",
       "      <td>0</td>\n",
       "      <td>Their pregnant mother was dumped by her irresp...</td>\n",
       "      <td>7</td>\n",
       "      <td>3</td>\n",
       "    </tr>\n",
       "    <tr>\n",
       "      <th>3</th>\n",
       "      <td>Dog</td>\n",
       "      <td>4</td>\n",
       "      <td>Mixed Breed</td>\n",
       "      <td>Female</td>\n",
       "      <td>Black</td>\n",
       "      <td>Brown</td>\n",
       "      <td>Medium</td>\n",
       "      <td>Short</td>\n",
       "      <td>Yes</td>\n",
       "      <td>No</td>\n",
       "      <td>Healthy</td>\n",
       "      <td>150</td>\n",
       "      <td>Good guard dog, very alert, active, obedience ...</td>\n",
       "      <td>8</td>\n",
       "      <td>2</td>\n",
       "    </tr>\n",
       "    <tr>\n",
       "      <th>4</th>\n",
       "      <td>Dog</td>\n",
       "      <td>1</td>\n",
       "      <td>Mixed Breed</td>\n",
       "      <td>Male</td>\n",
       "      <td>Black</td>\n",
       "      <td>No Color</td>\n",
       "      <td>Medium</td>\n",
       "      <td>Short</td>\n",
       "      <td>No</td>\n",
       "      <td>No</td>\n",
       "      <td>Healthy</td>\n",
       "      <td>0</td>\n",
       "      <td>This handsome yet cute boy is up for adoption....</td>\n",
       "      <td>3</td>\n",
       "      <td>2</td>\n",
       "    </tr>\n",
       "  </tbody>\n",
       "</table>\n",
       "</div>"
      ],
      "text/plain": [
       "  Type  Age                Breed1  Gender Color1    Color2 MaturitySize  \\\n",
       "0  Cat    3                 Tabby    Male  Black     White        Small   \n",
       "1  Cat    1  Domestic Medium Hair    Male  Black     Brown       Medium   \n",
       "2  Dog    1           Mixed Breed    Male  Brown     White       Medium   \n",
       "3  Dog    4           Mixed Breed  Female  Black     Brown       Medium   \n",
       "4  Dog    1           Mixed Breed    Male  Black  No Color       Medium   \n",
       "\n",
       "  FurLength Vaccinated Sterilized   Health  Fee  \\\n",
       "0     Short         No         No  Healthy  100   \n",
       "1    Medium   Not Sure   Not Sure  Healthy    0   \n",
       "2    Medium        Yes         No  Healthy    0   \n",
       "3     Short        Yes         No  Healthy  150   \n",
       "4     Short         No         No  Healthy    0   \n",
       "\n",
       "                                         Description  PhotoAmt  AdoptionSpeed  \n",
       "0  Nibble is a 3+ month old ball of cuteness. He ...         1              2  \n",
       "1  I just found it alone yesterday near my apartm...         2              0  \n",
       "2  Their pregnant mother was dumped by her irresp...         7              3  \n",
       "3  Good guard dog, very alert, active, obedience ...         8              2  \n",
       "4  This handsome yet cute boy is up for adoption....         3              2  "
      ]
     },
     "execution_count": 38,
     "metadata": {},
     "output_type": "execute_result"
    }
   ],
   "source": [
    "dataframe = pd.read_csv(csv_file)\n",
    "dataframe.head()"
   ]
  },
  {
   "cell_type": "code",
   "execution_count": 39,
   "metadata": {},
   "outputs": [],
   "source": [
    "# making the target\n",
    "dataframe['target'] = np.where(dataframe['AdoptionSpeed'] == 4, 0, 1)"
   ]
  },
  {
   "cell_type": "code",
   "execution_count": 40,
   "metadata": {},
   "outputs": [],
   "source": [
    "# removing some columns\n",
    "dataframe = dataframe.drop(columns=['AdoptionSpeed', 'Description'])"
   ]
  },
  {
   "cell_type": "code",
   "execution_count": 53,
   "metadata": {},
   "outputs": [
    {
     "name": "stdout",
     "output_type": "stream",
     "text": [
      "tf.Tensor([b'Dog' b'Dog' b'Cat' b'Dog'], shape=(4,), dtype=string)\n"
     ]
    }
   ],
   "source": [
    "# creating tensorflow dataset\n",
    "def df_to_dataset(dataframe, shuffle=True, batch_size=4):\n",
    "    label = dataframe.pop('target') \n",
    "    ds = tf.data.Dataset.from_tensor_slices((dict(dataframe), label))\n",
    "    if shuffle:\n",
    "        ds = ds.shuffle(len(dataframe))\n",
    "    ds = ds.batch(batch_size)\n",
    "    return ds\n",
    "\n",
    "train_df, test_df = train_test_split(dataframe, test_size=0.2)\n",
    "train_df, val_df = train_test_split(train_df, test_size=0.2)\n",
    "\n",
    "train_ds = df_to_dataset(train_df)\n",
    "test_ds = df_to_dataset(test_df, False)\n",
    "val_ds = df_to_dataset(val_df, False)\n",
    "\n",
    "example = next(iter(train_ds))[0]\n",
    "print(example['Type'])"
   ]
  },
  {
   "cell_type": "code",
   "execution_count": 54,
   "metadata": {},
   "outputs": [],
   "source": [
    "# creating feature columns for the model\n",
    "numerical = ['Age', 'Fee', 'PhotoAmt']\n",
    "to_onehot = ['Type', 'Color1', 'Color2', 'MaturitySize', 'FurLength', 'Vaccinated', 'Health']\n",
    "embedding = ['Breed1']\n",
    "\n",
    "feature_columns = []\n",
    "# numerical\n",
    "for num in numerical:\n",
    "    feat_c_num = feature_column.numeric_column(num)\n",
    "    feature_columns.append(feat_c_num)\n",
    "\n",
    "# bucketizing age\n",
    "feat_buckets = feature_column.bucketized_column(feature_columns[0], boundaries=[1,2,3,4,5])\n",
    "feature_columns[0] = feat_buckets\n",
    "    \n",
    "# one-hot\n",
    "for categ in to_onehot:\n",
    "    # this transform string categories in different 'numbers' i guess\n",
    "    feat_c_categ = feature_column.categorical_column_with_vocabulary_list(categ, \n",
    "                                                                   dataframe[categ].unique())\n",
    "    # this creates new dimensions for each category, like one-hot\n",
    "    feat_c_oh = feature_column.indicator_column(feat_c_categ)\n",
    "    feature_columns.append(feat_c_oh)\n",
    "    \n",
    "# embedding\n",
    "for emb in embedding:\n",
    "    feat_c = feature_column.categorical_column_with_vocabulary_list(emb, dataframe[emb].unique()) \n",
    "    feat_c_emb = feature_column.embedding_column(feat_c, 8)\n",
    "    feature_columns.append(feat_c_emb)\n",
    "    \n",
    "# feature crossing\n",
    "animal_type = feature_column.categorical_column_with_vocabulary_list('Type', ['Cat', 'Dog'])\n",
    "feat_c_cross = feature_column.crossed_column([feature_columns[0], animal_type], hash_bucket_size=100)\n",
    "feature_columns.append(feature_column.indicator_column(feat_c_cross))"
   ]
  },
  {
   "cell_type": "code",
   "execution_count": 55,
   "metadata": {},
   "outputs": [
    {
     "data": {
      "text/plain": [
       "(array([[0., 0., 1., 0., 0., 0.],\n",
       "        [0., 0., 1., 0., 0., 0.],\n",
       "        [0., 0., 0., 0., 1., 0.]], dtype=float32),\n",
       " array([2, 2, 4]))"
      ]
     },
     "execution_count": 55,
     "metadata": {},
     "output_type": "execute_result"
    }
   ],
   "source": [
    "# let's see\n",
    "def demo(feature_column):\n",
    "    layer = layers.DenseFeatures(feature_column)\n",
    "    return layer(example)[:3].numpy(), example['Age'][:3].numpy()\n",
    "demo(feature_columns[0])"
   ]
  },
  {
   "cell_type": "code",
   "execution_count": 56,
   "metadata": {},
   "outputs": [],
   "source": [
    "# we need a specific layer to get feature columns\n",
    "feature_layer = layers.DenseFeatures(feature_columns)"
   ]
  },
  {
   "cell_type": "code",
   "execution_count": 64,
   "metadata": {},
   "outputs": [
    {
     "name": "stdout",
     "output_type": "stream",
     "text": [
      "Epoch 1/20\n",
      "1846/1846 [==============================] - 13s 7ms/step - loss: 0.6217 - accuracy: 0.7307 - precision: 0.7628 - recall: 0.9168 - val_loss: 0.5063 - val_accuracy: 0.7514 - val_precision: 0.7884 - val_recall: 0.9105\n",
      "Epoch 2/20\n",
      "1846/1846 [==============================] - 12s 7ms/step - loss: 0.5247 - accuracy: 0.7470 - precision: 0.7760 - recall: 0.9194 - val_loss: 0.5162 - val_accuracy: 0.7600 - val_precision: 0.7884 - val_recall: 0.9265\n",
      "Epoch 3/20\n",
      "1846/1846 [==============================] - 13s 7ms/step - loss: 0.5069 - accuracy: 0.7508 - precision: 0.7828 - recall: 0.9124 - val_loss: 0.5051 - val_accuracy: 0.7622 - val_precision: 0.7889 - val_recall: 0.9295\n",
      "Epoch 4/20\n",
      "1846/1846 [==============================] - 13s 7ms/step - loss: 0.4983 - accuracy: 0.7539 - precision: 0.7829 - recall: 0.9179 - val_loss: 0.5085 - val_accuracy: 0.7541 - val_precision: 0.7837 - val_recall: 0.9251\n",
      "Epoch 5/20\n",
      "1846/1846 [==============================] - 13s 7ms/step - loss: 0.4929 - accuracy: 0.7596 - precision: 0.7922 - recall: 0.9100 - val_loss: 0.5067 - val_accuracy: 0.7562 - val_precision: 0.7974 - val_recall: 0.9018\n",
      "Epoch 6/20\n",
      "1846/1846 [==============================] - 14s 7ms/step - loss: 0.4836 - accuracy: 0.7647 - precision: 0.7966 - recall: 0.9109 - val_loss: 0.5077 - val_accuracy: 0.7562 - val_precision: 0.7948 - val_recall: 0.9069\n",
      "Epoch 7/20\n",
      "1846/1846 [==============================] - 14s 7ms/step - loss: 0.4805 - accuracy: 0.7676 - precision: 0.7993 - recall: 0.9109 - val_loss: 0.5142 - val_accuracy: 0.7519 - val_precision: 0.8034 - val_recall: 0.8829\n",
      "Epoch 8/20\n",
      "1846/1846 [==============================] - 13s 7ms/step - loss: 0.4725 - accuracy: 0.7689 - precision: 0.8006 - recall: 0.9109 - val_loss: 0.5275 - val_accuracy: 0.7486 - val_precision: 0.8126 - val_recall: 0.8611\n",
      "Epoch 9/20\n",
      "1846/1846 [==============================] - 13s 7ms/step - loss: 0.4630 - accuracy: 0.7727 - precision: 0.8041 - recall: 0.9113 - val_loss: 0.5307 - val_accuracy: 0.7411 - val_precision: 0.7918 - val_recall: 0.8851\n",
      "Epoch 10/20\n",
      "1846/1846 [==============================] - 16s 8ms/step - loss: 0.4577 - accuracy: 0.7764 - precision: 0.8076 - recall: 0.9113 - val_loss: 0.5469 - val_accuracy: 0.7497 - val_precision: 0.7887 - val_recall: 0.9069\n",
      "Epoch 11/20\n",
      "1846/1846 [==============================] - 10s 5ms/step - loss: 0.4546 - accuracy: 0.7798 - precision: 0.8089 - recall: 0.9150 - val_loss: 0.5575 - val_accuracy: 0.7530 - val_precision: 0.7955 - val_recall: 0.8996\n",
      "Epoch 12/20\n",
      "1846/1846 [==============================] - 9s 5ms/step - loss: 0.4449 - accuracy: 0.7865 - precision: 0.8167 - recall: 0.9129 - val_loss: 0.5585 - val_accuracy: 0.7389 - val_precision: 0.8125 - val_recall: 0.8444\n",
      "Epoch 13/20\n",
      "1846/1846 [==============================] - 10s 5ms/step - loss: 0.4389 - accuracy: 0.7884 - precision: 0.8181 - recall: 0.9139 - val_loss: 0.5564 - val_accuracy: 0.7524 - val_precision: 0.7887 - val_recall: 0.9120\n",
      "Epoch 14/20\n",
      "1846/1846 [==============================] - 9s 5ms/step - loss: 0.4316 - accuracy: 0.7899 - precision: 0.8198 - recall: 0.9135 - val_loss: 0.5713 - val_accuracy: 0.7443 - val_precision: 0.8099 - val_recall: 0.8582\n",
      "Epoch 15/20\n",
      "1846/1846 [==============================] - 9s 5ms/step - loss: 0.4254 - accuracy: 0.7895 - precision: 0.8203 - recall: 0.9120 - val_loss: 0.6011 - val_accuracy: 0.7492 - val_precision: 0.7872 - val_recall: 0.9091\n",
      "Epoch 16/20\n",
      "1846/1846 [==============================] - 9s 5ms/step - loss: 0.4187 - accuracy: 0.8017 - precision: 0.8249 - recall: 0.9252 - val_loss: 0.6219 - val_accuracy: 0.7486 - val_precision: 0.7842 - val_recall: 0.9142\n",
      "Epoch 17/20\n",
      "1846/1846 [==============================] - 9s 5ms/step - loss: 0.4125 - accuracy: 0.7971 - precision: 0.8280 - recall: 0.9120 - val_loss: 0.6104 - val_accuracy: 0.7519 - val_precision: 0.8075 - val_recall: 0.8756\n",
      "Epoch 18/20\n",
      "1846/1846 [==============================] - 14s 8ms/step - loss: 0.4049 - accuracy: 0.8036 - precision: 0.8274 - recall: 0.9242 - val_loss: 0.6350 - val_accuracy: 0.7449 - val_precision: 0.8001 - val_recall: 0.8764\n",
      "Epoch 19/20\n",
      "1846/1846 [==============================] - 12s 6ms/step - loss: 0.4033 - accuracy: 0.8005 - precision: 0.8280 - recall: 0.9178 - val_loss: 0.7000 - val_accuracy: 0.7356 - val_precision: 0.8023 - val_recall: 0.8560\n",
      "Epoch 20/20\n",
      "1846/1846 [==============================] - 13s 7ms/step - loss: 0.3910 - accuracy: 0.8121 - precision: 0.8384 - recall: 0.9205 - val_loss: 0.7100 - val_accuracy: 0.7356 - val_precision: 0.7955 - val_recall: 0.8684\n"
     ]
    }
   ],
   "source": [
    "precision = tf.keras.metrics.Precision(thresholds=0.5, name='precision')\n",
    "recall = tf.keras.metrics.Recall(thresholds=0.5, name='recall')\n",
    "model = tf.keras.models.Sequential([\n",
    "    feature_layer,\n",
    "    layers.Dense(64, activation='relu'),\n",
    "    layers.Dense(124, activation='relu'),\n",
    "    layers.Dropout(0.2),\n",
    "    layers.Dense(1, activation='sigmoid')\n",
    "])\n",
    "\n",
    "model.compile(loss=tf.keras.losses.BinaryCrossentropy(),\n",
    "             optimizer='adam',\n",
    "             metrics=['accuracy', precision, recall])\n",
    "\n",
    "history = model.fit(train_ds, validation_data=val_ds, epochs=20)"
   ]
  },
  {
   "cell_type": "code",
   "execution_count": 65,
   "metadata": {},
   "outputs": [
    {
     "data": {
      "image/png": "[encoded data removed]",
      "text/plain": [
       "<Figure size 432x288 with 1 Axes>"
      ]
     },
     "metadata": {
      "needs_background": "light"
     },
     "output_type": "display_data"
    }
   ],
   "source": [
    "import matplotlib.pyplot as plt\n",
    "def plot_model(history):\n",
    "    epochs = history.epoch\n",
    "    loss = history.history['loss']\n",
    "    val_loss = history.history['val_loss']\n",
    "    prec = history.history['precision']\n",
    "    val_prec = history.history['val_precision']\n",
    "    plt.xlabel('epoch')\n",
    "    plt.ylabel('loss')\n",
    "    plt.plot(epochs, loss, c='b')\n",
    "    plt.plot(epochs, val_loss, c='r')\n",
    "    plt.plot(epochs, prec, c='b')\n",
    "    plt.plot(epochs, val_prec, c='r')\n",
    "    plt.show()\n",
    "plot_model(history)"
   ]
  },
  {
   "cell_type": "code",
   "execution_count": null,
   "metadata": {},
   "outputs": [],
   "source": []
  }
 ],
 "metadata": {
  "kernelspec": {
   "display_name": "Python 3",
   "language": "python",
   "name": "python3"
  },
  "language_info": {
   "codemirror_mode": {
    "name": "ipython",
    "version": 3
   },
   "file_extension": ".py",
   "mimetype": "text/x-python",
   "name": "python",
   "nbconvert_exporter": "python",
   "pygments_lexer": "ipython3",
   "version": "3.8.5"
  }
 },
 "nbformat": 4,
 "nbformat_minor": 4
}
